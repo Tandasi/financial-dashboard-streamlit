{
 "cells": [
  {
   "cell_type": "markdown",
   "id": "ca523b6b-b0d6-4650-84ff-28d9378ff5c9",
   "metadata": {},
   "source": [
    "Project Title: Multi-Year Financial Performance Analysis of Apple Inc.\n",
    " Objective\n",
    "Analyze Apple’s income statements over the past 10 years to uncover trends in profitability, operational efficiency, and shareholder returns.\n",
    "\n",
    "Key Questions to Explore\n",
    "How has Apple’s revenue and net income evolved year-over-year?\n",
    "\n",
    "What is the trend in R&D spending and its correlation with EBIT?\n",
    "\n",
    "How have EPS (Earnings Per Share) and dividends per share changed over time?\n",
    "\n",
    "Is there a relationship between operating expenses and gross profit margin?\n",
    "\n",
    "🛠️ Tools & Stack\n",
    "Python: Data wrangling and analysis\n",
    "\n",
    "Pandas: DataFrame manipulation\n",
    "\n",
    "Matplotlib / Seaborn / Plotly: Visualizations\n",
    "\n",
    "Jupyter Notebook / Streamlit: Presentation or dashboard\n",
    "\n",
    "Optional: Deploy as a dashboard on GCP or AWS"
   ]
  },
  {
   "cell_type": "markdown",
   "id": "840073d2-384e-4f4d-857d-c6f5856516e8",
   "metadata": {},
   "source": [
    "2. Data Cleaning\n",
    "Convert financial figures to billions\n",
    "\n",
    "Parse dates and sort chronologically\n",
    "\n",
    "Handle missing or zero values\n",
    "\n",
    "3. Feature Engineering\n",
    "Calculate year-over-year growth rates\n",
    "\n",
    "Compute profit margins, EPS trends, and R&D ratios\n",
    "\n",
    "4. Visualization\n",
    "Line charts for revenue, net income, EPS\n",
    "\n",
    "Bar charts for R&D vs EBIT\n",
    "\n",
    "Heatmaps for correlation analysis\n",
    "\n",
    "5. Insights & Reporting\n",
    "Highlight years with significant growth or decline\n",
    "\n",
    "Discuss strategic shifts (e.g., rising R&D, declining dividends)\n",
    "\n",
    "Package findings into a dashboard or PDF report"
   ]
  },
  {
   "cell_type": "markdown",
   "id": "cf7eb04d-8396-4b42-a81e-5bf908c1f311",
   "metadata": {},
   "source": [
    "Bonus Extensions\n",
    "Compare Apple with another tech giant (e.g., Microsoft or Google)\n",
    "\n",
    "Predict next year’s EPS using regression\n",
    "\n",
    "Build a Streamlit app for interactive exploration"
   ]
  },
  {
   "cell_type": "code",
   "execution_count": null,
   "id": "032f8b99-aabe-492d-99df-2ce51f92db40",
   "metadata": {},
   "outputs": [],
   "source": []
  },
  {
   "cell_type": "code",
   "execution_count": 5,
   "id": "a4c6b73c-e39e-4322-a565-e75fb707e6db",
   "metadata": {},
   "outputs": [
    {
     "name": "stdout",
     "output_type": "stream",
     "text": [
      "Period: 2025-06-28, Revenue: 94036000000.0\n",
      "Period: 2025-03-29, Revenue: 95359000000.0\n",
      "Period: 2024-12-28, Revenue: 124300000000.0\n",
      "Period: 2024-09-28, Revenue: 94930000000.0\n"
     ]
    }
   ],
   "source": [
    "import requests\n",
    "\n",
    "url = \"https://api.financialdatasets.ai/financials/income-statements\"\n",
    "headers = {\n",
    "    \"X-API-KEY\": \"your_api_key_here\"\n",
    "}\n",
    "params = {\n",
    "    \"ticker\": \"AAPL\",\n",
    "    \"period\": \"quarterly\",\n",
    "    \"limit\": 4\n",
    "}\n",
    "\n",
    "response = requests.get(url, headers=headers, params=params)\n",
    "data = response.json()\n",
    "\n",
    "for statement in data[\"income_statements\"]:\n",
    "    print(f\"Period: {statement['report_period']}, Revenue: {statement['revenue']}\")\n"
   ]
  },
  {
   "cell_type": "markdown",
   "id": "ca1a9911-1545-4f49-8ec9-224723ffa6ef",
   "metadata": {},
   "source": [
    "Compare Apple and Microsoft Revenue Trends\n",
    "Use the Financial Datasets API to pull quarterly income statements for both AAPL and MSFT, then visualize side-by-side revenue growth."
   ]
  },
  {
   "cell_type": "code",
   "execution_count": 6,
   "id": "f3e4e9ae-b10c-48e2-bb1a-c45c4d6d0ce4",
   "metadata": {},
   "outputs": [
    {
     "name": "stdout",
     "output_type": "stream",
     "text": [
      "\n",
      "AAPL Revenue:\n",
      "2025-06-28: 94036000000.0\n",
      "2025-03-29: 95359000000.0\n",
      "2024-12-28: 124300000000.0\n",
      "2024-09-28: 94930000000.0\n",
      "\n",
      "MSFT Revenue:\n",
      "2025-06-30: 76441000000.0\n",
      "2025-03-31: 70066000000.0\n",
      "2024-12-31: 69632000000.0\n",
      "2024-09-30: 65585000000.0\n"
     ]
    }
   ],
   "source": [
    "tickers = [\"AAPL\", \"MSFT\"]\n",
    "for ticker in tickers:\n",
    "    params = {\"ticker\": ticker, \"period\": \"quarterly\", \"limit\": 4}\n",
    "    response = requests.get(\"https://api.financialdatasets.ai/financials/income-statements\", headers=headers, params=params)\n",
    "    data = response.json()\n",
    "    print(f\"\\n{ticker} Revenue:\")\n",
    "    for stmt in data[\"income_statements\"]:\n",
    "        print(f\"{stmt['report_period']}: {stmt['revenue']}\")\n"
   ]
  },
  {
   "cell_type": "markdown",
   "id": "59fee6ed-d8b7-419c-ac8e-22bc8726bb18",
   "metadata": {},
   "source": [
    "Predict Next Year’s EPS Using Regression\n",
    "Use historical EPS data from Apple’s annual reportsto build a simple linear regression model."
   ]
  },
  {
   "cell_type": "code",
   "execution_count": 7,
   "id": "f530b424-8d5d-44ce-a3b1-2eb83b91ce16",
   "metadata": {},
   "outputs": [
    {
     "name": "stdout",
     "output_type": "stream",
     "text": [
      "Predicted EPS for 2024: 6.66\n"
     ]
    },
    {
     "name": "stderr",
     "output_type": "stream",
     "text": [
      "C:\\Users\\giftt\\AppData\\Roaming\\Python\\Python313\\site-packages\\sklearn\\utils\\validation.py:2749: UserWarning: X does not have valid feature names, but LinearRegression was fitted with feature names\n",
      "  warnings.warn(\n"
     ]
    }
   ],
   "source": [
    "import pandas as pd\n",
    "from sklearn.linear_model import LinearRegression\n",
    "\n",
    "eps_data = {\n",
    "    \"year\": [2015, 2016, 2017, 2018, 2019, 2020, 2021, 2022, 2023],\n",
    "    \"eps\": [2.32, 2.087, 2.317, 3.0, 2.99, 3.31, 5.67, 6.15, 6.16]\n",
    "}\n",
    "df = pd.DataFrame(eps_data)\n",
    "model = LinearRegression().fit(df[[\"year\"]], df[\"eps\"])\n",
    "predicted_eps = model.predict([[2024]])\n",
    "print(f\"Predicted EPS for 2024: {predicted_eps[0]:.2f}\")\n"
   ]
  },
  {
   "cell_type": "code",
   "execution_count": 10,
   "id": "870bf7ac-3be8-4190-bfdd-8fca893f51cc",
   "metadata": {},
   "outputs": [
    {
     "name": "stdout",
     "output_type": "stream",
     "text": [
      "Predicted EPS for 2024: 6.66\n"
     ]
    }
   ],
   "source": [
    "import pandas as pd\n",
    "\n",
    "# Predict using a DataFrame with the same column name\n",
    "future_year = pd.DataFrame({'year': [2024]})\n",
    "predicted_eps = model.predict(future_year)\n",
    "\n",
    "print(f\"Predicted EPS for 2024: {predicted_eps[0]:.2f}\")\n"
   ]
  },
  {
   "cell_type": "markdown",
   "id": "7c15baab-a5b5-4059-9d52-b2bf4f3b9fef",
   "metadata": {},
   "source": [
    "Build a Streamlit App for Interactive Exploration\n",
    "Let users toggle between companies, view revenue charts, and see EPS predictions."
   ]
  },
  {
   "cell_type": "code",
   "execution_count": 1,
   "id": "f2e7ae82-f46f-4810-971e-1a5b1f8cafd1",
   "metadata": {},
   "outputs": [
    {
     "ename": "NameError",
     "evalue": "name 'st' is not defined",
     "output_type": "error",
     "traceback": [
      "\u001b[1;31m---------------------------------------------------------------------------\u001b[0m",
      "\u001b[1;31mNameError\u001b[0m                                 Traceback (most recent call last)",
      "Cell \u001b[1;32mIn[1], line 1\u001b[0m\n\u001b[1;32m----> 1\u001b[0m metric \u001b[38;5;241m=\u001b[39m st\u001b[38;5;241m.\u001b[39mradio(\u001b[38;5;124m\"\u001b[39m\u001b[38;5;124mChoose metric\u001b[39m\u001b[38;5;124m\"\u001b[39m, [\u001b[38;5;124m\"\u001b[39m\u001b[38;5;124mEPS\u001b[39m\u001b[38;5;124m\"\u001b[39m, \u001b[38;5;124m\"\u001b[39m\u001b[38;5;124mRevenue\u001b[39m\u001b[38;5;124m\"\u001b[39m])\n\u001b[0;32m      2\u001b[0m \u001b[38;5;28;01mif\u001b[39;00m metric \u001b[38;5;241m==\u001b[39m \u001b[38;5;124m\"\u001b[39m\u001b[38;5;124mEPS\u001b[39m\u001b[38;5;124m\"\u001b[39m:\n\u001b[0;32m      3\u001b[0m     st\u001b[38;5;241m.\u001b[39mline_chart(df\u001b[38;5;241m.\u001b[39mset_index(\u001b[38;5;124m\"\u001b[39m\u001b[38;5;124myear\u001b[39m\u001b[38;5;124m\"\u001b[39m)[\u001b[38;5;124m\"\u001b[39m\u001b[38;5;124meps\u001b[39m\u001b[38;5;124m\"\u001b[39m])\n",
      "\u001b[1;31mNameError\u001b[0m: name 'st' is not defined"
     ]
    }
   ],
   "source": [
    "metric = st.radio(\"Choose metric\", [\"EPS\", \"Revenue\"])\n",
    "if metric == \"EPS\":\n",
    "    st.line_chart(df.set_index(\"year\")[\"eps\"])\n",
    "else:\n",
    "    st.line_chart(df.set_index(\"year\")[\"revenue\"])\n"
   ]
  },
  {
   "cell_type": "code",
   "execution_count": 2,
   "id": "5786d28c-6d2c-44bc-af3b-ec2955c520e1",
   "metadata": {},
   "outputs": [
    {
     "ename": "NameError",
     "evalue": "name 'st' is not defined",
     "output_type": "error",
     "traceback": [
      "\u001b[1;31m---------------------------------------------------------------------------\u001b[0m",
      "\u001b[1;31mNameError\u001b[0m                                 Traceback (most recent call last)",
      "Cell \u001b[1;32mIn[2], line 1\u001b[0m\n\u001b[1;32m----> 1\u001b[0m year \u001b[38;5;241m=\u001b[39m st\u001b[38;5;241m.\u001b[39mslider(\u001b[38;5;124m\"\u001b[39m\u001b[38;5;124mSelect year\u001b[39m\u001b[38;5;124m\"\u001b[39m, \u001b[38;5;241m2024\u001b[39m, \u001b[38;5;241m2030\u001b[39m)\n\u001b[0;32m      2\u001b[0m future_df \u001b[38;5;241m=\u001b[39m pd\u001b[38;5;241m.\u001b[39mDataFrame({\u001b[38;5;124m'\u001b[39m\u001b[38;5;124myear\u001b[39m\u001b[38;5;124m'\u001b[39m: [year]})\n\u001b[0;32m      3\u001b[0m predicted_eps \u001b[38;5;241m=\u001b[39m model\u001b[38;5;241m.\u001b[39mpredict(future_df)[\u001b[38;5;241m0\u001b[39m]\n",
      "\u001b[1;31mNameError\u001b[0m: name 'st' is not defined"
     ]
    }
   ],
   "source": [
    "year = st.slider(\"Select year\", 2024, 2030)\n",
    "future_df = pd.DataFrame({'year': [year]})\n",
    "predicted_eps = model.predict(future_df)[0]\n",
    "st.write(f\"📈 Predicted EPS for {year}: **${predicted_eps:.2f}**\")\n"
   ]
  },
  {
   "cell_type": "code",
   "execution_count": null,
   "id": "401d6471-bb40-4e93-8cb9-9a5f10a958d6",
   "metadata": {},
   "outputs": [],
   "source": []
  },
  {
   "cell_type": "code",
   "execution_count": null,
   "id": "cf8a4f27-9d31-46f5-9162-5d0f2b32cf43",
   "metadata": {},
   "outputs": [],
   "source": []
  },
  {
   "cell_type": "code",
   "execution_count": null,
   "id": "e21e3d84-845b-4bd8-9f7d-86859989bd7e",
   "metadata": {},
   "outputs": [],
   "source": []
  },
  {
   "cell_type": "code",
   "execution_count": null,
   "id": "76b4b960-de11-41cc-80a5-953765988456",
   "metadata": {},
   "outputs": [],
   "source": []
  },
  {
   "cell_type": "code",
   "execution_count": null,
   "id": "6ff8574c-5436-461b-b0db-19b2403e71a0",
   "metadata": {},
   "outputs": [],
   "source": []
  },
  {
   "cell_type": "code",
   "execution_count": null,
   "id": "2d618818-5e5e-4d54-ad06-28185d4fed87",
   "metadata": {},
   "outputs": [],
   "source": []
  },
  {
   "cell_type": "code",
   "execution_count": null,
   "id": "eb7ee289-d341-4c76-acab-e0b4b363eb65",
   "metadata": {},
   "outputs": [],
   "source": []
  },
  {
   "cell_type": "code",
   "execution_count": null,
   "id": "959791fd-195c-4c7b-8c99-3bbf1bd7496d",
   "metadata": {},
   "outputs": [],
   "source": []
  },
  {
   "cell_type": "code",
   "execution_count": null,
   "id": "c77416ae-941d-4adf-989d-db1c7b964af0",
   "metadata": {},
   "outputs": [],
   "source": []
  },
  {
   "cell_type": "code",
   "execution_count": null,
   "id": "e4d4fb48-c25a-44bf-8b8b-0a34e403fe27",
   "metadata": {},
   "outputs": [],
   "source": []
  },
  {
   "cell_type": "code",
   "execution_count": null,
   "id": "3623a12a-d701-4100-8bcf-097a6d2c40f0",
   "metadata": {},
   "outputs": [],
   "source": []
  },
  {
   "cell_type": "code",
   "execution_count": null,
   "id": "ef6b01b2-1d65-4597-9423-0cae03c7faa0",
   "metadata": {},
   "outputs": [],
   "source": []
  },
  {
   "cell_type": "code",
   "execution_count": null,
   "id": "3a0e632a-d6f9-4c54-863d-d651017520fd",
   "metadata": {},
   "outputs": [],
   "source": []
  },
  {
   "cell_type": "code",
   "execution_count": null,
   "id": "8f7a325b-12b1-40a7-b3c8-0d438504c2ab",
   "metadata": {},
   "outputs": [],
   "source": []
  },
  {
   "cell_type": "code",
   "execution_count": null,
   "id": "e9e479d6-dd82-4cab-863f-1075cad932be",
   "metadata": {},
   "outputs": [],
   "source": []
  },
  {
   "cell_type": "code",
   "execution_count": null,
   "id": "2b5f4b9e-3071-46c1-b342-018125781e0a",
   "metadata": {},
   "outputs": [],
   "source": []
  },
  {
   "cell_type": "code",
   "execution_count": null,
   "id": "8de8f1cc-5e88-435c-bf4e-e6c368173645",
   "metadata": {},
   "outputs": [],
   "source": []
  },
  {
   "cell_type": "code",
   "execution_count": null,
   "id": "b05ec544-74fd-4142-a27c-a4fe915c33fb",
   "metadata": {},
   "outputs": [],
   "source": []
  },
  {
   "cell_type": "code",
   "execution_count": null,
   "id": "7eb77ee6-504b-4819-85ce-ca364603de8a",
   "metadata": {},
   "outputs": [],
   "source": []
  },
  {
   "cell_type": "code",
   "execution_count": null,
   "id": "b38de374-d96b-4f7d-9829-7285b4cfdd29",
   "metadata": {},
   "outputs": [],
   "source": []
  },
  {
   "cell_type": "code",
   "execution_count": null,
   "id": "4fe3daae-54d5-42af-a080-550d5596fb99",
   "metadata": {},
   "outputs": [],
   "source": []
  },
  {
   "cell_type": "code",
   "execution_count": null,
   "id": "dff9044a-3522-46e3-975e-af588ce8faf0",
   "metadata": {},
   "outputs": [],
   "source": []
  }
 ],
 "metadata": {
  "kernelspec": {
   "display_name": "Python [conda env:base] *",
   "language": "python",
   "name": "conda-base-py"
  },
  "language_info": {
   "codemirror_mode": {
    "name": "ipython",
    "version": 3
   },
   "file_extension": ".py",
   "mimetype": "text/x-python",
   "name": "python",
   "nbconvert_exporter": "python",
   "pygments_lexer": "ipython3",
   "version": "3.13.5"
  }
 },
 "nbformat": 4,
 "nbformat_minor": 5
}
